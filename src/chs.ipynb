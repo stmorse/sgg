{
 "cells": [
  {
   "cell_type": "code",
   "execution_count": 9,
   "id": "a14ee2f2",
   "metadata": {},
   "outputs": [],
   "source": [
    "import json\n",
    "import os\n",
    "\n",
    "import matplotlib.pyplot as plt\n",
    "import numpy as np\n",
    "from sklearn.manifold import TSNE\n",
    "\n",
    "from sentence_transformers import SentenceTransformer"
   ]
  },
  {
   "cell_type": "code",
   "execution_count": 3,
   "id": "047432cb",
   "metadata": {},
   "outputs": [],
   "source": [
    "path = '/sciclone/geograd/stmorse/chs/Comp-HuSim'\n",
    "\n",
    "records = []\n",
    "\n",
    "with open(os.path.join(path, 'record.json'), 'r') as f:\n",
    "    records.append(json.load(f))\n",
    "with open(os.path.join(path, 'record2.json'), 'r') as f:\n",
    "    records.append(json.load(f))"
   ]
  },
  {
   "cell_type": "code",
   "execution_count": 5,
   "id": "fdab7fb0",
   "metadata": {},
   "outputs": [],
   "source": [
    "model = SentenceTransformer('all-MiniLM-L6-v2')"
   ]
  },
  {
   "cell_type": "code",
   "execution_count": 6,
   "id": "d351e815",
   "metadata": {},
   "outputs": [
    {
     "data": {
      "text/plain": [
       "{'0': {'event': {'Amina': 'Go to a coffee shop',\n",
       "   'Gaston': 'Go to a coffee shop',\n",
       "   'Aldo': 'Go to a coffee shop',\n",
       "   'Zahra': 'Go to a coffee shop'},\n",
       "  'transcript': [['Amina Osei',\n",
       "    \"Let's start by brainstorming ideas for a community event that brings people together around music, sustainability, and cultural heritage. I think it would be amazing to host a festival with traditional Sub-Saharan African music performances, workshops on urban farming, and a marketplace featuring local vendors selling sustainable products. What do you all think?\"],\n",
       "   ['Gaston Schneider',\n",
       "    \"I love the idea of a festival celebrating cultural heritage and sustainability, but I think we could also explore ways to incorporate local folklore into the event. Perhaps we could have a section dedicated to storytelling, where people can share tales from Luxembourgish mythology, or even a comic book station where attendees can create their own stories inspired by our town's history. This could not only bring the community together but also provide a unique platform for creative expression and education on local culture.\"],\n",
       "   ['Aldo Rossi',\n",
       "    \"I think incorporating local folklore and storytelling into the festival is a wonderful idea, Gaston. It could add a rich layer of depth to the event. As for the community event, I'd like to propose a unique aspect - a serene moss art installation in one of our urban parks, accompanied by a soundscape that mimics the peaceful atmosphere of a forest. This could provide a tranquil oasis for attendees to relax and connect with nature, fostering empathy and a sense of community.\"],\n",
       "   ['Zahra Rahimi',\n",
       "    \"I'm thrilled to see our ideas converging around community, culture, and sustainability. I'd like to propose a workshop that combines my expertise in plant acoustics with herbal medicine, where we can explore how sound affects plant growth and healing properties. Perhaps we could even incorporate traditional Afghan music into the soundscape, creating a unique experience that not only educates but also nurtures our connection to nature and each other. This could be a powerful way to foster empathy and community, while promoting environmental stewardship in our town.\"]],\n",
       "  'effort_update': {'Amina': {'effort_summary': 'Organize a community festival celebrating cultural heritage, sustainability, and music.',\n",
       "    'justification': 'To bring the community together through traditional Sub-Saharan African music, urban farming, and local folklore, fostering unity and environmental stewardship.'},\n",
       "   'Gaston': {'effort_summary': 'Organize a community festival celebrating cultural heritage, sustainability, and local folklore.',\n",
       "    'justification': 'This festival will bring the community together, promote creative expression, and educate on local culture and sustainability.'},\n",
       "   'Aldo': {'effort_summary': 'Collaborate with neighbors on a community festival integrating moss art, soundscapes, and cultural heritage.',\n",
       "    'justification': 'This effort aligns with my passion for art and nature while fostering community connection and empathy.'},\n",
       "   'Zahra': {'effort_summary': 'Organize a community festival focused on cultural heritage, sustainability, and safety.',\n",
       "    'justification': 'I aim to address community safety concerns by fostering unity through cultural celebration and environmental education, empowering others and promoting a safer, connected community.'}}},\n",
       " '1': {'event': {'Amina': 'Go to a coffee shop',\n",
       "   'Gaston': 'Go to a coffee shop',\n",
       "   'Aldo': 'Go to a coffee shop',\n",
       "   'Zahra': 'Go to a coffee shop'},\n",
       "  'transcript': [['Amina Osei',\n",
       "    '\"I\\'m so excited to be here with all of you today! As we discuss our ideas for a community workshop, I\\'d love to propose combining traditional Sub-Saharan African music with urban farming practices. Imagine an event where we can share the vibrant rhythms and dances of my heritage, while also showcasing sustainable gardening techniques and promoting environmental awareness. What are your thoughts on this concept, and how can we work together to bring it to life?\"'],\n",
       "   ['Gaston Schneider',\n",
       "    \"I love the energy behind combining traditional music with urban farming practices, Amina. As I envision our community festival, I see an opportunity to create immersive experiences that blend cultural heritage with sustainable practices. For my part, I'd like to propose a comic book exhibit that showcases Luxembourgish folklore in a modern, eco-friendly way. Perhaps we could even have a workshop where attendees can create their own comic strips using recycled materials, highlighting the intersection of local legends and environmental stewardship. How do you think we could integrate our ideas to create a cohesive and engaging festival experience?\"],\n",
       "   ['Aldo Rossi',\n",
       "    \"I'm fascinated by both of your ideas, Amina and Gaston. As I think about our community festival, I envision a serene oasis amidst the urban bustle, where people can connect with nature and each other. What if we created an immersive moss art installation that incorporates the rhythms and sounds of Sub-Saharan African music, while also highlighting the importance of forest conservation? We could use sustainable materials and recycled sounds to bring the tranquility of the forest into our festival space. I'd love to explore ways to integrate our ideas and create a truly unique experience that inspires our community to appreciate the beauty of nature and cultural heritage.\"],\n",
       "   ['Zahra Rahimi',\n",
       "    \"I'm thrilled to see our ideas coming together! I propose we create an interactive sound garden, where attendees can explore the intersection of plant acoustics and traditional music from around the world, including Sub-Saharan African rhythms and Afghan melodies. We could incorporate herbal medicine workshops, using plants to create natural remedies, and have a 'sound healing' area where people can experience the therapeutic effects of sound and nature. By combining our concepts, we can create an immersive festival experience that not only celebrates cultural heritage but also promotes sustainability, environmental awareness, and community well-being.\"]],\n",
       "  'effort_update': {'Amina': {'effort_summary': 'Organize a community festival integrating Sub-Saharan African music, urban farming, and immersive cultural experiences.',\n",
       "    'justification': 'To foster community unity and environmental awareness through a blend of cultural heritage, sustainable practices, and interactive workshops.'},\n",
       "   'Gaston': {'effort_summary': 'Organize a community festival integrating comic book exhibits with cultural heritage and sustainability.',\n",
       "    'justification': 'This festival will bring together diverse cultural expressions, promote environmental awareness, and engage the community in creative storytelling and sustainable practices.'},\n",
       "   'Aldo': {'effort_summary': 'Collaborate on a community festival integrating moss art, soundscapes, cultural heritage, and sustainable practices.',\n",
       "    'justification': 'This effort aligns with my passion for art, nature, and sustainability while fostering community connection and cultural appreciation.'},\n",
       "   'Zahra': {'effort_summary': 'Organize a community festival integrating cultural heritage, sustainability, and sound therapy.',\n",
       "    'justification': 'By combining plant acoustics, traditional music, and herbal medicine, we can create an immersive experience that fosters community unity, environmental awareness, and personal well-being.'}}},\n",
       " '2': {'event': {'Amina': 'Go to a coffee shop',\n",
       "   'Gaston': 'Go to a coffee shop',\n",
       "   'Aldo': 'Go to a coffee shop',\n",
       "   'Zahra': 'Go to a coffee shop'},\n",
       "  'transcript': [['Amina Osei',\n",
       "    \"I'm so excited to share my idea with all of you - what if we organize a community workshop where we combine music, art, and sustainability? We could learn about traditional Sub-Saharan African rhythms while working together to create a vibrant garden, showcasing the beauty of cultural exchange and environmental consciousness.\"],\n",
       "   ['Gaston Schneider',\n",
       "    \"I love where Amina's idea is headed, and I think we could take it a step further by incorporating comic book exhibits that highlight sustainable superheroes or eco-friendly storylines, while also showcasing Luxembourgish folklore and its connection to nature. This fusion of art, music, and sustainability could be the perfect foundation for our community festival, don't you think?\"],\n",
       "   ['Aldo Rossi',\n",
       "    \"I'm captivated by Amina's idea of combining music, art, and sustainability, and Gaston's suggestion to incorporate comic book exhibits is a great way to add an engaging storytelling element. I envision our community festival featuring immersive moss installations that respond to soundscapes inspired by nature, perhaps even incorporating traditional Sub-Saharan African rhythms or Luxembourgish folk melodies. This fusion could create a truly unique experience, inviting attendees to step into a serene, natural world amidst the urban landscape, while inspiring environmental awareness and cultural appreciation.\"],\n",
       "   ['Zahra Rahimi',\n",
       "    \"I'm thrilled to see our ideas converging around a vibrant community festival that weaves together music, art, and sustainability. I envision our event featuring interactive soundscapes that showcase traditional Afghan melodies, harmoniously blended with Sub-Saharan African rhythms and Luxembourgish folk music. By incorporating plant acoustics and herbal medicine workshops, we can empower attendees to appreciate the healing power of nature and promote environmental stewardship. Let's create an immersive experience that celebrates cultural exchange and inspires a deeper connection with our natural world.\"]],\n",
       "  'effort_update': {'Amina': {'effort_summary': 'Organize a community festival integrating Sub-Saharan African music, urban farming, comic book exhibits, and immersive cultural experiences.',\n",
       "    'justification': 'To foster community unity and environmental awareness through a blend of cultural heritage, sustainable practices, interactive workshops, and engaging storytelling.'},\n",
       "   'Gaston': {'effort_summary': 'Organize a community festival integrating comic book exhibits with cultural heritage, music, art, and sustainability.',\n",
       "    'justification': 'This festival will bring together diverse cultural expressions, promote environmental awareness, and engage the community in creative storytelling, music, and sustainable practices.'},\n",
       "   'Aldo': {'effort_summary': 'Organize a community festival featuring moss art, soundscapes, and cultural music, promoting sustainability and cultural exchange.',\n",
       "    'justification': 'This effort aligns with my passion for art, nature, and sustainability while fostering community connection and cultural appreciation through a unique and immersive experience.'},\n",
       "   'Zahra': {'effort_summary': 'Organize a community festival integrating cultural heritage, sustainability, and sound therapy with a focus on music, art, and storytelling.',\n",
       "    'justification': 'By combining plant acoustics, traditional music from Afghanistan, Sub-Saharan Africa, and Luxembourg, along with herbal medicine and comic book storytelling, we can create an immersive experience that fosters community unity, environmental awareness, and personal well-being.'}}}}"
      ]
     },
     "execution_count": 6,
     "metadata": {},
     "output_type": "execute_result"
    }
   ],
   "source": [
    "records[0]"
   ]
  },
  {
   "cell_type": "code",
   "execution_count": 7,
   "id": "62c09548",
   "metadata": {},
   "outputs": [
    {
     "name": "stdout",
     "output_type": "stream",
     "text": [
      "0\n",
      "1\n",
      "2\n",
      "0\n",
      "1\n",
      "2\n"
     ]
    },
    {
     "data": {
      "text/plain": [
       "(24, 384)"
      ]
     },
     "execution_count": 7,
     "metadata": {},
     "output_type": "execute_result"
    }
   ],
   "source": [
    "embeddings = []\n",
    "\n",
    "for record in records:\n",
    "    for step, fields in record.items():\n",
    "        print(f'{step}')\n",
    "        sentences = [t[1] for t in fields['transcript']]\n",
    "        embeddings.extend(model.encode(sentences))\n",
    "\n",
    "embeddings = np.vstack(embeddings)\n",
    "embeddings.shape"
   ]
  },
  {
   "cell_type": "code",
   "execution_count": 11,
   "id": "8e3860cf",
   "metadata": {},
   "outputs": [],
   "source": [
    "et = TSNE(n_components=2, perplexity=15).fit_transform(embeddings)"
   ]
  },
  {
   "cell_type": "code",
   "execution_count": 14,
   "id": "cedec571",
   "metadata": {},
   "outputs": [
    {
     "data": {
      "text/plain": [
       "<matplotlib.legend.Legend at 0x154264118980>"
      ]
     },
     "execution_count": 14,
     "metadata": {},
     "output_type": "execute_result"
    },
    {
     "data": {
      "image/png": "[encoded data removed]",
      "text/plain": [
       "<Figure size 640x480 with 1 Axes>"
      ]
     },
     "metadata": {},
     "output_type": "display_data"
    }
   ],
   "source": [
    "markers = ['x', 'o', '^', '<']\n",
    "names   = ['Amina', 'Gaston', 'Aldo', 'Zahra']\n",
    "\n",
    "for i, marker in enumerate(markers):\n",
    "    idx1 = np.arange(i, 13, 4)\n",
    "    idx2 = np.arange(12 + i, 24, 4)\n",
    "    \n",
    "    plt.scatter(et[idx1, 0], et[idx1, 1], s=50, c='b', marker=marker, alpha=0.8, label=names[i])\n",
    "    plt.scatter(et[idx2, 0], et[idx2, 1], s=50, c='r', marker=marker, alpha=0.8)\n",
    "\n",
    "plt.legend()"
   ]
  }
 ],
 "metadata": {
  "kernelspec": {
   "display_name": "venv",
   "language": "python",
   "name": "python3"
  },
  "language_info": {
   "codemirror_mode": {
    "name": "ipython",
    "version": 3
   },
   "file_extension": ".py",
   "mimetype": "text/x-python",
   "name": "python",
   "nbconvert_exporter": "python",
   "pygments_lexer": "ipython3",
   "version": "3.12.7"
  }
 },
 "nbformat": 4,
 "nbformat_minor": 5
}
