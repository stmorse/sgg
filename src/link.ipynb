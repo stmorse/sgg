{
 "cells": [
  {
   "cell_type": "code",
   "execution_count": 11,
   "id": "39fefc17",
   "metadata": {},
   "outputs": [],
   "source": [
    "import bz2\n",
    "import json\n",
    "\n",
    "import matplotlib.pyplot as plt\n",
    "import numpy as np\n",
    "import pandas as pd\n",
    "\n",
    "from utils import read_file"
   ]
  },
  {
   "cell_type": "markdown",
   "id": "bc4f638c",
   "metadata": {},
   "source": [
    "- \"subreddit\":\"reddit.com\",\n",
    "- \"score\":3,\n",
    "- \"ups\":3,\n",
    "- \"author_flair_css_class\":null,\n",
    "- \"created_utc\":1167609605,\n",
    "- \"body\":\"In the city I live in, I probably am.  Might even be the entire island.  Ah well.  It\\'s one thing to know that somewhere, out there over the Internet, there are many like me.  It\\'s another thing to know someone, in my everyday life off the internet, who is like me too.\\\\r\\\\n\\\\r\\\\nPixels on a screen just aren\\'t enough.\\\\r\\\\n\\\\r\\\\nLife is a sadness.  But what else can we do but live it?  Life is a happiness.  But what else can we do but endure it?\\\\r\\\\n\",\n",
    "- \"controversiality\":0,\n",
    "- \"subreddit_id\":\"t5_6\",\n",
    "- \"link_id\":\"t3_wiw8\",\n",
    "- \"stickied\":false,\n",
    "- \"gilded\":0,\n",
    "- \"distinguished\":null,\n",
    "- \"retrieved_on\":1473809765,\n",
    "- \"author\":\"almkglor\",\n",
    "- \"author_flair_text\":null,\n",
    "- \"id\":\"cwl3r\",\n",
    "- \"edited\":false,\n",
    "- \"parent_id\":\"t1_cwjuc\"\n",
    "\n",
    "link_id is submission id\n",
    "parent_id is t1_id for child comment, t3_id for top level comment"
   ]
  },
  {
   "cell_type": "code",
   "execution_count": 8,
   "id": "74cbcee1",
   "metadata": {},
   "outputs": [
    {
     "data": {
      "text/html": [
       "<div>\n",
       "<style scoped>\n",
       "    .dataframe tbody tr th:only-of-type {\n",
       "        vertical-align: middle;\n",
       "    }\n",
       "\n",
       "    .dataframe tbody tr th {\n",
       "        vertical-align: top;\n",
       "    }\n",
       "\n",
       "    .dataframe thead th {\n",
       "        text-align: right;\n",
       "    }\n",
       "</style>\n",
       "<table border=\"1\" class=\"dataframe\">\n",
       "  <thead>\n",
       "    <tr style=\"text-align: right;\">\n",
       "      <th></th>\n",
       "      <th>id</th>\n",
       "      <th>created_utc</th>\n",
       "      <th>parent_id</th>\n",
       "      <th>subreddit</th>\n",
       "      <th>subreddit_id</th>\n",
       "      <th>author</th>\n",
       "      <th>idx</th>\n",
       "    </tr>\n",
       "  </thead>\n",
       "  <tbody>\n",
       "    <tr>\n",
       "      <th>0</th>\n",
       "      <td>c128oj</td>\n",
       "      <td>1170288047</td>\n",
       "      <td>t1_c124gv</td>\n",
       "      <td>programming</td>\n",
       "      <td>t5_2fwo</td>\n",
       "      <td>dons</td>\n",
       "      <td>0</td>\n",
       "    </tr>\n",
       "    <tr>\n",
       "      <th>1</th>\n",
       "      <td>c128ok</td>\n",
       "      <td>1170288055</td>\n",
       "      <td>t3_127fd</td>\n",
       "      <td>reddit.com</td>\n",
       "      <td>t5_6</td>\n",
       "      <td>indigoshift</td>\n",
       "      <td>1</td>\n",
       "    </tr>\n",
       "    <tr>\n",
       "      <th>2</th>\n",
       "      <td>c128ot</td>\n",
       "      <td>1170288082</td>\n",
       "      <td>t1_c128nr</td>\n",
       "      <td>reddit.com</td>\n",
       "      <td>t5_6</td>\n",
       "      <td>rutabaga</td>\n",
       "      <td>2</td>\n",
       "    </tr>\n",
       "    <tr>\n",
       "      <th>3</th>\n",
       "      <td>c128ov</td>\n",
       "      <td>1170288082</td>\n",
       "      <td>t1_c127e3</td>\n",
       "      <td>reddit.com</td>\n",
       "      <td>t5_6</td>\n",
       "      <td>dotrob</td>\n",
       "      <td>3</td>\n",
       "    </tr>\n",
       "    <tr>\n",
       "      <th>4</th>\n",
       "      <td>c128p3</td>\n",
       "      <td>1170288120</td>\n",
       "      <td>t3_121yo</td>\n",
       "      <td>programming</td>\n",
       "      <td>t5_2fwo</td>\n",
       "      <td>justinhj</td>\n",
       "      <td>4</td>\n",
       "    </tr>\n",
       "  </tbody>\n",
       "</table>\n",
       "</div>"
      ],
      "text/plain": [
       "       id  created_utc  parent_id    subreddit subreddit_id       author  idx\n",
       "0  c128oj   1170288047  t1_c124gv  programming      t5_2fwo         dons    0\n",
       "1  c128ok   1170288055   t3_127fd   reddit.com         t5_6  indigoshift    1\n",
       "2  c128ot   1170288082  t1_c128nr   reddit.com         t5_6     rutabaga    2\n",
       "3  c128ov   1170288082  t1_c127e3   reddit.com         t5_6       dotrob    3\n",
       "4  c128p3   1170288120   t3_121yo  programming      t5_2fwo     justinhj    4"
      ]
     },
     "execution_count": 8,
     "metadata": {},
     "output_type": "execute_result"
    }
   ],
   "source": [
    "meta1 = pd.read_csv('/sciclone/geograd/stmorse/reddit/metadata/metadata_2007-01.csv', compression='gzip')\n",
    "meta2 = pd.read_csv('/sciclone/geograd/stmorse/reddit/metadata/metadata_2007-02.csv', compression='gzip')\n",
    "meta2.head()"
   ]
  },
  {
   "cell_type": "code",
   "execution_count": 10,
   "id": "61d6ce31",
   "metadata": {},
   "outputs": [
    {
     "data": {
      "text/html": [
       "<div>\n",
       "<style scoped>\n",
       "    .dataframe tbody tr th:only-of-type {\n",
       "        vertical-align: middle;\n",
       "    }\n",
       "\n",
       "    .dataframe tbody tr th {\n",
       "        vertical-align: top;\n",
       "    }\n",
       "\n",
       "    .dataframe thead th {\n",
       "        text-align: right;\n",
       "    }\n",
       "</style>\n",
       "<table border=\"1\" class=\"dataframe\">\n",
       "  <thead>\n",
       "    <tr style=\"text-align: right;\">\n",
       "      <th></th>\n",
       "      <th>id</th>\n",
       "      <th>created_utc</th>\n",
       "      <th>parent_id</th>\n",
       "      <th>subreddit</th>\n",
       "      <th>subreddit_id</th>\n",
       "      <th>author</th>\n",
       "      <th>idx</th>\n",
       "    </tr>\n",
       "  </thead>\n",
       "  <tbody>\n",
       "    <tr>\n",
       "      <th>58946</th>\n",
       "      <td>c128nr</td>\n",
       "      <td>1170287830</td>\n",
       "      <td>t3_127g7</td>\n",
       "      <td>reddit.com</td>\n",
       "      <td>t5_6</td>\n",
       "      <td>rutabaga</td>\n",
       "      <td>58946</td>\n",
       "    </tr>\n",
       "  </tbody>\n",
       "</table>\n",
       "</div>"
      ],
      "text/plain": [
       "           id  created_utc parent_id   subreddit subreddit_id    author    idx\n",
       "58946  c128nr   1170287830  t3_127g7  reddit.com         t5_6  rutabaga  58946"
      ]
     },
     "execution_count": 10,
     "metadata": {},
     "output_type": "execute_result"
    }
   ],
   "source": [
    "meta1.query('id == \"c128nr\"')"
   ]
  },
  {
   "cell_type": "code",
   "execution_count": 13,
   "id": "28b644b8",
   "metadata": {},
   "outputs": [],
   "source": [
    "with open('/sciclone/geograd/stmorse/reddit/links/graph.json', 'r') as f:\n",
    "    z = json.load(f)"
   ]
  },
  {
   "cell_type": "code",
   "execution_count": 16,
   "id": "402e0f3b",
   "metadata": {},
   "outputs": [
    {
     "data": {
      "text/plain": [
       "([270, 2765, 2698, 2698, 1378],\n",
       " [2333, 3614, 2765, 3614, 2333],\n",
       " [1, 1, 1, 1, 1])"
      ]
     },
     "execution_count": 16,
     "metadata": {},
     "output_type": "execute_result"
    }
   ],
   "source": [
    "z['edge_index'][0][:5], z['edge_index'][1][:5], z['edge_weight'][:5]"
   ]
  },
  {
   "cell_type": "code",
   "execution_count": 21,
   "id": "3c3f5777",
   "metadata": {},
   "outputs": [
    {
     "data": {
      "text/plain": [
       "(array([  177,   212,   516,   637,   745,   775,   780,   947,  1004,\n",
       "         1989,  2048,  2249,  2968,  2977,  3056,  3264,  3592,  4289,\n",
       "         4608,  4743,  4799,  4877,  4902,  4965,  5021,  5025,  5638,\n",
       "         5675,  6276,  6335,  6371,  6391,  7020,  7031,  8837,  9069,\n",
       "         9081,  9082,  9670,  9677, 10657, 10847, 11264, 11385, 11991,\n",
       "        12085, 12166, 12724, 13243, 13293, 13417, 13511, 13520, 13618,\n",
       "        14299, 14616, 14690, 15297, 15417, 16004, 16387, 16416, 16435,\n",
       "        16467, 17190, 17273, 18789, 18982, 19128, 19252, 19384, 20104,\n",
       "        20160, 21472, 21566, 22185, 22443, 22543]),)"
      ]
     },
     "execution_count": 21,
     "metadata": {},
     "output_type": "execute_result"
    }
   ],
   "source": [
    "z2 = np.array(z['edge_weight'])\n",
    "np.where(z2 > 10)"
   ]
  }
 ],
 "metadata": {
  "kernelspec": {
   "display_name": "venv",
   "language": "python",
   "name": "python3"
  },
  "language_info": {
   "codemirror_mode": {
    "name": "ipython",
    "version": 3
   },
   "file_extension": ".py",
   "mimetype": "text/x-python",
   "name": "python",
   "nbconvert_exporter": "python",
   "pygments_lexer": "ipython3",
   "version": "3.12.7"
  }
 },
 "nbformat": 4,
 "nbformat_minor": 5
}
